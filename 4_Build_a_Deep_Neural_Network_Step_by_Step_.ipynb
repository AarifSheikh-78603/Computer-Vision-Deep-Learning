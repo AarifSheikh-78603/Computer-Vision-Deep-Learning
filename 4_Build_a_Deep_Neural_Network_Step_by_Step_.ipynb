{
  "nbformat": 4,
  "nbformat_minor": 0,
  "metadata": {
    "colab": {
      "provenance": [],
      "authorship_tag": "ABX9TyMyTcNwQp/FtJLqT06eY02p",
      "include_colab_link": true
    },
    "kernelspec": {
      "name": "python3",
      "display_name": "Python 3"
    },
    "language_info": {
      "name": "python"
    }
  },
  "cells": [
    {
      "cell_type": "markdown",
      "metadata": {
        "id": "view-in-github",
        "colab_type": "text"
      },
      "source": [
        "<a href=\"https://colab.research.google.com/github/AarifSheikh-78603/Computer-Vision-Deep-Learning/blob/main/4_Build_a_Deep_Neural_Network_Step_by_Step_.ipynb\" target=\"_parent\"><img src=\"https://colab.research.google.com/assets/colab-badge.svg\" alt=\"Open In Colab\"/></a>"
      ]
    },
    {
      "cell_type": "code",
      "source": [
        "import numpy as np\n",
        "import h5py\n",
        "import matplotlib.pyplot as plt\n",
        "#from testCases import *\n",
        "#from dnn_utils import sigmoid, sigmoid_backward, relu, relu_backward\n",
        "#from public_tests import *\n",
        "\n",
        "%matplotlib inline\n",
        "plt.rcParams['figure.figsize'] = (5.0, 4.0) # set default size of plots\n",
        "plt.rcParams['image.interpolation'] = 'nearest'\n",
        "plt.rcParams['image.cmap'] = 'gray'\n",
        "%load_ext autoreload\n",
        "%autoreload 2\n",
        "np.random.seed(1)\n"
      ],
      "metadata": {
        "colab": {
          "base_uri": "https://localhost:8080/"
        },
        "id": "qJJUnscmR0qY",
        "outputId": "96542485-d039-4f1b-8701-629860e9b459"
      },
      "execution_count": null,
      "outputs": [
        {
          "output_type": "stream",
          "name": "stdout",
          "text": [
            "The autoreload extension is already loaded. To reload it, use:\n",
            "  %reload_ext autoreload\n"
          ]
        }
      ]
    },
    {
      "cell_type": "code",
      "source": [
        "# Here we can creat first function this function has initilaze parameters\n",
        "def initialize_parameters(n_x, n_h, n_y):\n",
        "\n",
        " np.random.seed(1)\n",
        " W1=np.random.randn(n_h,n_x)*0.01\n",
        " b1=np.zeros(shape=(n_h,1))\n",
        " W2=np.random.randn(n_y,n_h)*0.01\n",
        " b2=np.zeros(shape=(n_y,1))\n",
        " parameters = {\"W1\": W1,\"b1\": b1,\"W2\": W2,\"b2\": b2}\n",
        " return parameters\n",
        "parameters = initialize_parameters(3,2,1)\n",
        "print(\"**************************************\")\n",
        "print(\"W1 = \" + str(parameters[\"W1\"]))\n",
        "print(\"**************************************\")\n",
        "print(\"b1 = \" + str(parameters[\"b1\"]))\n",
        "print(\"**************************************\")\n",
        "print(\"W2 = \" + str(parameters[\"W2\"]))\n",
        "print(\"**************************************\")\n",
        "print(\"b2 = \" + str(parameters[\"b2\"]))"
      ],
      "metadata": {
        "colab": {
          "base_uri": "https://localhost:8080/"
        },
        "id": "oMYGo8FUSlo-",
        "outputId": "1345843b-2937-4646-80c4-1001cffb2060"
      },
      "execution_count": null,
      "outputs": [
        {
          "output_type": "stream",
          "name": "stdout",
          "text": [
            "**************************************\n",
            "W1 = [[ 0.01624345 -0.00611756 -0.00528172]\n",
            " [-0.01072969  0.00865408 -0.02301539]]\n",
            "**************************************\n",
            "b1 = [[0.]\n",
            " [0.]]\n",
            "**************************************\n",
            "W2 = [[ 0.01744812 -0.00761207]]\n",
            "**************************************\n",
            "b2 = [[0.]]\n"
          ]
        }
      ]
    },
    {
      "cell_type": "code",
      "source": [
        "# GRADED FUNCTION: initialize_parameters_deep\n",
        "def initialize_parameters_deep(layer_dims):\n",
        "\n",
        " np.random.seed(3)\n",
        " parameters = {}\n",
        " L = len(layer_dims) # number of layers in the network\n",
        " for l in range(1, L):\n",
        "  parameters['W' + str(l)] = np.random.randn(layer_dims[l],layer_dims[l-1])*0.01\n",
        "  parameters['b' + str(l)] = np.zeros((layer_dims[l],1))\n",
        " assert(parameters['W' + str(l)].shape == (layer_dims[l], layer_dims[l - 1]))\n",
        " assert(parameters['b' + str(l)].shape == (layer_dims[l], 1))\n",
        " return parameters\n",
        "parameters = initialize_parameters_deep([5,4,3])\n",
        "print(\"**************************************\")\n",
        "print(\"W1 = \" + str(parameters[\"W1\"]))\n",
        "print(\"**************************************\")\n",
        "print(\"b1 = \" + str(parameters[\"b1\"]))\n",
        "print(\"**************************************\")\n",
        "print(\"W2 = \" + str(parameters[\"W2\"]))\n",
        "print(\"**************************************\")\n",
        "print(\"b2 = \" + str(parameters[\"b2\"]))"
      ],
      "metadata": {
        "colab": {
          "base_uri": "https://localhost:8080/"
        },
        "id": "ooiJw6dzSlsL",
        "outputId": "9ca5563c-1214-460f-b84a-f57416b07e3c"
      },
      "execution_count": null,
      "outputs": [
        {
          "output_type": "stream",
          "name": "stdout",
          "text": [
            "**************************************\n",
            "W1 = [[ 0.01788628  0.0043651   0.00096497 -0.01863493 -0.00277388]\n",
            " [-0.00354759 -0.00082741 -0.00627001 -0.00043818 -0.00477218]\n",
            " [-0.01313865  0.00884622  0.00881318  0.01709573  0.00050034]\n",
            " [-0.00404677 -0.0054536  -0.01546477  0.00982367 -0.01101068]]\n",
            "**************************************\n",
            "b1 = [[0.]\n",
            " [0.]\n",
            " [0.]\n",
            " [0.]]\n",
            "**************************************\n",
            "W2 = [[-0.01185047 -0.0020565   0.01486148  0.00236716]\n",
            " [-0.01023785 -0.00712993  0.00625245 -0.00160513]\n",
            " [-0.00768836 -0.00230031  0.00745056  0.01976111]]\n",
            "**************************************\n",
            "b2 = [[0.]\n",
            " [0.]\n",
            " [0.]]\n"
          ]
        }
      ]
    },
    {
      "cell_type": "code",
      "source": [
        "# Here we can create the linear function\n",
        "def linear_forward(A, W, b):\n",
        " Z=np.dot(W,A)+b\n",
        " cache = (A, W, b)\n",
        " return Z, cache\n",
        "\n",
        "\n",
        "# Here we creat linear_activation_forward\n",
        "def linear_activation_forward(A_prev, W, b, activation):\n",
        "\n",
        " if activation == \"sigmoid\":\n",
        "  Z, linear_cache =linear_forward(A_prev,W,b)\n",
        "  A, activation_cache =sigmoid(Z)\n",
        "\n",
        " elif activation == \"relu\":\n",
        "  Z, linear_cache = linear_forward(A_prev,W,b)\n",
        "  A, activation_cache =relu(Z)\n",
        "\n",
        " cache = (linear_cache, activation_cache)\n",
        " return A, cache\n",
        "\n",
        "\n",
        "# creat L_model_forward\n",
        "def L_model_forward(X, parameters):\n",
        " caches = []\n",
        " A = X\n",
        " L = len(parameters) // 2\n",
        " for l in range(1, L):\n",
        "  A_prev = A\n",
        "  A, cache =linear_activation_forward(A_prev, parameters['W'+str(l)],parameters['b'+str(l)],activation='relu')\n",
        " caches.append(cache)\n",
        "\n",
        " AL, cache =linear_activation_forward(A,\n",
        " parameters['W'+str(L)],parameters['b'+str(L)],activation='sigmoid')\n",
        " caches.append(cache)\n",
        "\n",
        "\n",
        " #assert(AL.shape == (1, X.shape[1]))\n",
        " return AL, caches\n"
      ],
      "metadata": {
        "id": "Kf1uN3E-Slu4"
      },
      "execution_count": null,
      "outputs": []
    },
    {
      "cell_type": "code",
      "source": [
        "# Creat the function compute_cost\n",
        "def compute_cost(AL, Y):\n",
        " m = Y.shape[1]\n",
        " cost = (-1 / m) * np.sum(np.multiply(Y, np.log(AL)) + np.multiply(1 - Y, np.log(1 - AL)))\n",
        " cost = np.squeeze(cost)\n",
        " return cost\n",
        "A = np.array([[1, 2], [3, 4]])\n",
        "\n",
        "\n",
        "# To make sure your cost's shape is what we expect (e.g. this turns [[17]] into 17).\n",
        "print('axis=1 and keepdims=True')\n",
        "print(np.sum(A, axis=1, keepdims=True))\n",
        "print('axis=1 and keepdims=False')\n",
        "print(np.sum(A, axis=1, keepdims=False))\n",
        "print('axis=0 and keepdims=True')\n",
        "print(np.sum(A, axis=0, keepdims=True))\n",
        "print('axis=0 and keepdims=False')\n",
        "print(np.sum(A, axis=0, keepdims=False))\n"
      ],
      "metadata": {
        "colab": {
          "base_uri": "https://localhost:8080/"
        },
        "id": "GE-8FeFcSlxt",
        "outputId": "e3b110e3-7544-473c-86ad-55ff6c7d3e45"
      },
      "execution_count": null,
      "outputs": [
        {
          "output_type": "stream",
          "name": "stdout",
          "text": [
            "axis=1 and keepdims=True\n",
            "[[3]\n",
            " [7]]\n",
            "axis=1 and keepdims=False\n",
            "[3 7]\n",
            "axis=0 and keepdims=True\n",
            "[[4 6]]\n",
            "axis=0 and keepdims=False\n",
            "[4 6]\n"
          ]
        }
      ]
    },
    {
      "cell_type": "code",
      "source": [
        "# Create the function: linear_backward\n",
        "def linear_backward(dZ, cache):\n",
        " A_prev, W, b = cache\n",
        " m = A_prev.shape[1]\n",
        " dW = np.dot(dZ, cache[0].T) / m\n",
        " db = (1/m)*(np.sum(dZ, axis=1, keepdims=True))\n",
        " dA_prev = np.dot(cache[1].T, dZ)\n",
        " return dA_prev, dW, db\n"
      ],
      "metadata": {
        "id": "GsBzUleESl0d"
      },
      "execution_count": null,
      "outputs": []
    },
    {
      "cell_type": "code",
      "source": [
        "# Create the function linear_activation_backward\n",
        "def linear_activation_backward(dA, cache, activation):\n",
        " linear_cache, activation_cache = cache\n",
        "\n",
        " if activation == \"relu\":\n",
        "  dZ = relu_backward(dA, activation_cache)\n",
        "  dA_prev, dW, db =linear_backward(dZ, linear_cache)\n",
        " elif activation == \"sigmoid\":\n",
        "    dZ = sigmoid_backward(dA, activation_cache)\n",
        "    dA_prev, dW, db = linear_backward(dZ, linear_cache)\n",
        "\n",
        " return dA_prev, dW, db"
      ],
      "metadata": {
        "id": "UkHvLw7LSl3A"
      },
      "execution_count": null,
      "outputs": []
    },
    {
      "cell_type": "code",
      "source": [
        "# Creat Function: L_model_backward\n",
        "def L_model_backward(AL, Y, caches):\n",
        " grads = {}\n",
        " L = len(caches) # the number of layers\n",
        " m = AL.shape[1]\n",
        " Y = Y.reshape(AL.shape) # after this line, Y is the same shape as AL\n",
        "\n",
        "\n",
        " # Initializing the backpropagation\n",
        " print(\"L = \"+str(L))\n",
        " dAL = - (np.divide(Y, AL) - np.divide(1 - Y, 1 - AL))\n",
        " current_cache = caches[L-1]\n",
        " grads[\"dA\" + str(L-1)], grads[\"dW\" + str(L)], grads[\"db\" + str(L)] = linear_activation_backward(dAL, current_cache,\n",
        "activation = \"sigmoid\")\n",
        " print(\"dA\"+ str(L-1)+\" = \"+str(grads[\"dA\" + str(L-1)]))\n",
        " print(\"dW\"+ str(L)+\" = \"+str(grads[\"dW\" + str(L)]))\n",
        " print(\"db\"+ str(L)+\" = \"+str(grads[\"db\" + str(L)]))\n",
        "\n",
        "\n",
        " # Loop from l=L-2 to l=0\n",
        " for l in reversed(range(L-1)):\n",
        "  current_cache = caches[l]\n",
        "  dA_prev_temp, dW_temp, db_temp = linear_activation_backward(grads[\"dA\" + str(l + 1)], current_cache,\n",
        "activation = \"relu\")\n",
        "  grads[\"dA\" + str(l)] = dA_prev_temp\n",
        "  grads[\"dW\" + str(l + 1)] = dW_temp\n",
        "  grads[\"db\" + str(l + 1)] = db_temp\n",
        "\n",
        " return grads\n"
      ],
      "metadata": {
        "id": "ihOwqIAsSl5j"
      },
      "execution_count": null,
      "outputs": []
    },
    {
      "cell_type": "code",
      "source": [
        "# Create The function: update_parameters\n",
        "def update_parameters(params, grads, learning_rate):\n",
        " parameters = params.copy()\n",
        " L = len(parameters) // 2 # number of layers in the neural network\n",
        "\n",
        " # Update rule for each parameter. Use a for loop.\n",
        " for l in range(L):\n",
        "\n",
        "  parameters[\"W\" + str(l+1)] = parameters[\"W\" + str(l+1)] - learning_rate * grads[\"dW\" + str(l+1)]\n",
        "  parameters[\"b\" + str(l+1)] = parameters[\"b\" + str(l+1)] - learning_rate * grads[\"db\" + str(l+1)]\n",
        "\n",
        " return parameters\n",
        "def update_parameters(parameters, grads, learning_rate):\n",
        " L = len(parameters) // 2 # number of layers in the neural network\n",
        "\n",
        "# Update rule for each parameter. Use a for loop.\n",
        " for l in range(L):\n",
        "  parameters[\"W\" + str(l+1)] = parameters[\"W\" + str(l+1)] - learning_rate * grads[\"dW\" + str(l+1)]\n",
        "  parameters[\"b\" + str(l+1)] = parameters[\"b\" + str(l+1)] - learning_rate * grads[\"db\" + str(l+1)]\n",
        " return parameters\n"
      ],
      "metadata": {
        "id": "Gqj3_jnLyQBF"
      },
      "execution_count": null,
      "outputs": []
    },
    {
      "cell_type": "code",
      "source": [
        "print (\"W1 = \"+ str(parameters[\"W1\"]))\n",
        "print (\"b1 = \"+ str(parameters[\"b1\"]))\n",
        "print (\"W2 = \"+ str(parameters[\"W2\"]))\n",
        "print (\"b2 = \"+ str(parameters[\"b2\"]))"
      ],
      "metadata": {
        "colab": {
          "base_uri": "https://localhost:8080/"
        },
        "id": "_kGoYAdhyQFc",
        "outputId": "bb033f89-ff51-4bf2-be6f-b0775a1815bc"
      },
      "execution_count": null,
      "outputs": [
        {
          "output_type": "stream",
          "name": "stdout",
          "text": [
            "W1 = [[ 0.01788628  0.0043651   0.00096497 -0.01863493 -0.00277388]\n",
            " [-0.00354759 -0.00082741 -0.00627001 -0.00043818 -0.00477218]\n",
            " [-0.01313865  0.00884622  0.00881318  0.01709573  0.00050034]\n",
            " [-0.00404677 -0.0054536  -0.01546477  0.00982367 -0.01101068]]\n",
            "b1 = [[0.]\n",
            " [0.]\n",
            " [0.]\n",
            " [0.]]\n",
            "W2 = [[-0.01185047 -0.0020565   0.01486148  0.00236716]\n",
            " [-0.01023785 -0.00712993  0.00625245 -0.00160513]\n",
            " [-0.00768836 -0.00230031  0.00745056  0.01976111]]\n",
            "b2 = [[0.]\n",
            " [0.]\n",
            " [0.]]\n"
          ]
        }
      ]
    }
  ]
}